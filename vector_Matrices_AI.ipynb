{
  "nbformat": 4,
  "nbformat_minor": 0,
  "metadata": {
    "colab": {
      "provenance": []
    },
    "kernelspec": {
      "name": "python3",
      "display_name": "Python 3"
    },
    "language_info": {
      "name": "python"
    }
  },
  "cells": [
    {
      "cell_type": "markdown",
      "source": [
        "@Uzma_Jawed"
      ],
      "metadata": {
        "id": "PjPE3rwHjnWH"
      }
    },
    {
      "cell_type": "markdown",
      "source": [
        "\n",
        "\n",
        "---\n",
        "\n",
        "\n",
        "### 📘 Vectors & Matrices for AI: Basics\n",
        "\n",
        "---\n",
        "\n",
        "\n",
        "A Notebook for Linear Algebra Fundamentals\n",
        "\n",
        "\n",
        "---\n",
        "\n"
      ],
      "metadata": {
        "id": "LNJ13Dd1jqL3"
      }
    },
    {
      "cell_type": "code",
      "source": [
        "# First, let's import necessary libraries\n",
        "import numpy as np\n",
        "import matplotlib.pyplot as plt"
      ],
      "metadata": {
        "id": "ALXP4d3Hjz08"
      },
      "execution_count": null,
      "outputs": []
    },
    {
      "cell_type": "markdown",
      "source": [
        "\n",
        "\n",
        "---\n",
        "\n",
        "\n",
        "### ✅ 1. Vectors\n",
        "\n",
        "\n",
        "---\n",
        "\n",
        "\n",
        "🔹 What is a Vector?\n",
        "\n",
        "A vector is a mathematical object with magnitude and direction, represented as an array of numbers.\n",
        "\n",
        "In AI, vectors represent data points (e.g., word embeddings, feature vectors).\n",
        "\n",
        "Example: [3, 4] is a 2D vector.\n",
        "\n",
        "\n",
        "---\n",
        "\n",
        "\n",
        "🔹 Vector Representation in Python\n",
        "___"
      ],
      "metadata": {
        "id": "f7cHQa-Oj6Ld"
      }
    },
    {
      "cell_type": "code",
      "source": [
        "# Creating vectors with NumPy\n",
        "vector_1 = np.array([1, 2, 3])\n",
        "vector_2 = np.array([4, 5, 6])\n",
        "\n",
        "print(\"Vector 1:\", vector_1)\n",
        "print(\"Vector 2:\", vector_2)"
      ],
      "metadata": {
        "colab": {
          "base_uri": "https://localhost:8080/"
        },
        "id": "opah-3S7kc2P",
        "outputId": "4b8cbd56-98e6-4c61-b300-c26edbf8e249"
      },
      "execution_count": null,
      "outputs": [
        {
          "output_type": "stream",
          "name": "stdout",
          "text": [
            "Vector 1: [1 2 3]\n",
            "Vector 2: [4 5 6]\n"
          ]
        }
      ]
    },
    {
      "cell_type": "markdown",
      "source": [
        "\n",
        "\n",
        "---\n",
        "\n",
        "\n",
        "🔹 Vector Operations\n",
        "\n",
        "\n",
        "---\n",
        "\n",
        "\n",
        "Addition\n",
        "\n",
        "\n",
        "---\n",
        "\n"
      ],
      "metadata": {
        "id": "cTdX46eMkht-"
      }
    },
    {
      "cell_type": "code",
      "source": [
        "vector_sum = vector_1 + vector_2\n",
        "print(\"Sum:\", vector_sum)"
      ],
      "metadata": {
        "colab": {
          "base_uri": "https://localhost:8080/"
        },
        "id": "lJM_DKKMkqaZ",
        "outputId": "270bb122-58e9-4327-d52a-ec400314e0ce"
      },
      "execution_count": null,
      "outputs": [
        {
          "output_type": "stream",
          "name": "stdout",
          "text": [
            "Sum: [5 7 9]\n"
          ]
        }
      ]
    },
    {
      "cell_type": "markdown",
      "source": [
        "\n",
        "\n",
        "---\n",
        "\n",
        "\n",
        "Scalar Multiplication\n",
        "\n",
        "---\n",
        "\n"
      ],
      "metadata": {
        "id": "asQofGMykuok"
      }
    },
    {
      "cell_type": "code",
      "source": [
        "scalar = 2\n",
        "scaled_vector = scalar * vector_1\n",
        "print(\"Scaled Vector:\", scaled_vector)"
      ],
      "metadata": {
        "colab": {
          "base_uri": "https://localhost:8080/"
        },
        "id": "0b2FZLJjk7Rb",
        "outputId": "da82a32a-c9c3-4946-9d67-10b739fa4def"
      },
      "execution_count": null,
      "outputs": [
        {
          "output_type": "stream",
          "name": "stdout",
          "text": [
            "Scaled Vector: [2 4 6]\n"
          ]
        }
      ]
    },
    {
      "cell_type": "markdown",
      "source": [
        "\n",
        "\n",
        "---\n",
        "\n",
        "\n",
        "Dot Product (Important for AI!)\n",
        "\n",
        "\n",
        "---\n",
        "\n"
      ],
      "metadata": {
        "id": "u5V_1sW0lDqg"
      }
    },
    {
      "cell_type": "code",
      "source": [
        "dot_product = np.dot(vector_1, vector_2)\n",
        "print(\"Dot Product:\", dot_product)"
      ],
      "metadata": {
        "colab": {
          "base_uri": "https://localhost:8080/"
        },
        "id": "zrlqO_izlMto",
        "outputId": "1a5355e9-c6a8-4874-8c7f-d00d2f59e425"
      },
      "execution_count": null,
      "outputs": [
        {
          "output_type": "stream",
          "name": "stdout",
          "text": [
            "Dot Product: 32\n"
          ]
        }
      ]
    },
    {
      "cell_type": "markdown",
      "source": [
        "\n",
        "\n",
        "\n",
        "---\n",
        "\n",
        "\n",
        "### 🔹 What is a Matrix?\n",
        "\n",
        "\n",
        "---\n",
        "\n",
        "\n",
        "A matrix is a 2D array of numbers, used in AI for transformations (e.g., weights in a neural network).\n",
        "\n",
        "Example:\n",
        "A =\n",
        "\n",
        " [1 2\n",
        "  \n",
        "3 4]\n",
        "___"
      ],
      "metadata": {
        "id": "mcwqFS4BlTXv"
      }
    },
    {
      "cell_type": "markdown",
      "source": [
        "\n",
        "\n",
        "---\n",
        "\n",
        "\n",
        "### 🔹 Matrix Representation in Python\n",
        "\n",
        "\n",
        "---\n",
        "\n"
      ],
      "metadata": {
        "id": "is3BUSP9lsfi"
      }
    },
    {
      "cell_type": "code",
      "source": [
        "matrix_A = np.array([[1, 2], [3, 4]])\n",
        "matrix_B = np.array([[5, 6], [7, 8]])\n",
        "\n",
        "print(\"Matrix A:\\n\", matrix_A)\n",
        "print(\"Matrix B:\\n\", matrix_B)"
      ],
      "metadata": {
        "colab": {
          "base_uri": "https://localhost:8080/"
        },
        "id": "mU8eV6SWmMVj",
        "outputId": "d2563129-90ef-4c09-e5c5-9699e893a19b"
      },
      "execution_count": null,
      "outputs": [
        {
          "output_type": "stream",
          "name": "stdout",
          "text": [
            "Matrix A:\n",
            " [[1 2]\n",
            " [3 4]]\n",
            "Matrix B:\n",
            " [[5 6]\n",
            " [7 8]]\n"
          ]
        }
      ]
    },
    {
      "cell_type": "markdown",
      "source": [
        "\n",
        "\n",
        "---\n",
        "\n",
        "\n",
        "### 🔹 Matrix Operations\n",
        "\n",
        "\n",
        "---\n",
        "\n",
        "\n",
        "Addition & Subtraction\n",
        "___"
      ],
      "metadata": {
        "id": "OSmrzlVLmSD5"
      }
    },
    {
      "cell_type": "code",
      "source": [
        "matrix_sum = matrix_A + matrix_B\n",
        "print(\"Sum:\\n\", matrix_sum)"
      ],
      "metadata": {
        "colab": {
          "base_uri": "https://localhost:8080/"
        },
        "id": "jqaAlq52mdYg",
        "outputId": "7b0b40e4-19c3-4d02-d811-700e7c441d96"
      },
      "execution_count": null,
      "outputs": [
        {
          "output_type": "stream",
          "name": "stdout",
          "text": [
            "Sum:\n",
            " [[ 6  8]\n",
            " [10 12]]\n"
          ]
        }
      ]
    },
    {
      "cell_type": "markdown",
      "source": [
        "\n",
        "\n",
        "---\n",
        "\n",
        "\n",
        "Matrix Multiplication (Key in AI!)\n",
        "\n",
        "\n",
        "---\n",
        "\n"
      ],
      "metadata": {
        "id": "kz9TIOyTmj9I"
      }
    },
    {
      "cell_type": "code",
      "source": [
        "matrix_product = np.matmul(matrix_A, matrix_B)\n",
        "print(\"Product:\\n\", matrix_product)"
      ],
      "metadata": {
        "colab": {
          "base_uri": "https://localhost:8080/"
        },
        "id": "3Sfq09AimqNr",
        "outputId": "956fec7b-b9f3-4dd5-e105-e38717289a28"
      },
      "execution_count": null,
      "outputs": [
        {
          "output_type": "stream",
          "name": "stdout",
          "text": [
            "Product:\n",
            " [[19 22]\n",
            " [43 50]]\n"
          ]
        }
      ]
    },
    {
      "cell_type": "markdown",
      "source": [
        "\n",
        "\n",
        "---\n",
        "\n",
        "\n",
        "Transpose (Flips rows & columns)\n",
        "\n",
        "\n",
        "---\n",
        "\n"
      ],
      "metadata": {
        "id": "KOht2Nsvmvnn"
      }
    },
    {
      "cell_type": "code",
      "source": [
        "transpose_A = matrix_A.T\n",
        "print(\"Transpose of A:\\n\", transpose_A)"
      ],
      "metadata": {
        "colab": {
          "base_uri": "https://localhost:8080/"
        },
        "id": "SdF14TtWm2mS",
        "outputId": "f47dcdcc-b6f1-4da1-b562-ef945e43bc64"
      },
      "execution_count": null,
      "outputs": [
        {
          "output_type": "stream",
          "name": "stdout",
          "text": [
            "Transpose of A:\n",
            " [[1 3]\n",
            " [2 4]]\n"
          ]
        }
      ]
    },
    {
      "cell_type": "markdown",
      "source": [
        "\n",
        "\n",
        "---\n",
        "\n",
        "\n",
        "✅ 3. Practice Section\n",
        "✏️ Exercise 1: Vector Operations\n",
        "Compute:\n",
        "\n",
        "3 * vector_1 + vector_2\n",
        "\n",
        "Dot product of vector_1 and [0, 1, 0]\n",
        "\n",
        "✏️ Exercise 2: Matrix Operations\n",
        "Given:\n",
        "C =\n",
        "\n",
        " [2 0\n",
        "\n",
        "  0 2]\n",
        "\n",
        "Compute:\n",
        "\n",
        "C * matrix_A (element-wise)\n",
        "\n",
        "C @ matrix_A (matrix multiplication)\n",
        "\n",
        "✏️ Exercise 3: Transpose Challenge\n",
        "\n",
        "Create a 3x2 matrix and find its transpose.\n",
        "___\n",
        "\n"
      ],
      "metadata": {
        "id": "Y9g-F9-bm_4b"
      }
    },
    {
      "cell_type": "markdown",
      "source": [
        "🎯 Final Notes\n",
        "Vectors & matrices are building blocks for AI (e.g., tensors in PyTorch).\n",
        "\n",
        "Next Steps: Learn about determinants, inverses, and eigenvalues for deeper ML understanding!\n",
        "\n",
        "\n",
        "---\n",
        "\n"
      ],
      "metadata": {
        "id": "vRQ6swTpns86"
      }
    }
  ]
}