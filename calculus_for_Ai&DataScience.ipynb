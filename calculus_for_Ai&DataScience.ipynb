{
  "nbformat": 4,
  "nbformat_minor": 0,
  "metadata": {
    "colab": {
      "provenance": [],
      "include_colab_link": true
    },
    "kernelspec": {
      "name": "python3",
      "display_name": "Python 3"
    },
    "language_info": {
      "name": "python"
    }
  },
  "cells": [
    {
      "cell_type": "markdown",
      "metadata": {
        "id": "view-in-github",
        "colab_type": "text"
      },
      "source": [
        "<a href=\"https://colab.research.google.com/github/Uzma-Jawed/AI-Math-Fundamentals/blob/main/calculus_for_Ai%26DataScience.ipynb\" target=\"_parent\"><img src=\"https://colab.research.google.com/assets/colab-badge.svg\" alt=\"Open In Colab\"/></a>"
      ]
    },
    {
      "cell_type": "markdown",
      "source": [
        "@Uzma_Jawed\n",
        "___"
      ],
      "metadata": {
        "id": "lwSRWvgO1QCd"
      }
    },
    {
      "cell_type": "markdown",
      "source": [
        "Calculus for AI & Data Science"
      ],
      "metadata": {
        "id": "JTD9C8xQ1NKo"
      }
    },
    {
      "cell_type": "markdown",
      "source": [
        "___\n",
        "**What is Calculus?**\n",
        "\n",
        "Calculus is the math of change. It helps us understand how things increase or decrease, like:\n",
        "\n",
        "*   How fast a car is moving\n",
        "\n",
        "*   How loss goes down when we train a machine learning model\n",
        "\n",
        "*   How your mood changes daily (just like in my project mood journal)"
      ],
      "metadata": {
        "id": "xpC59x301bNc"
      }
    },
    {
      "cell_type": "markdown",
      "source": [
        "___\n",
        "📌 **Two Main Concepts in Calculus:**\n",
        "\n",
        "| Type           | What it means                  | Where it's used in AI                                                 |\n",
        "| -------------- | ------------------------------ | --------------------------------------------------------------------- |\n",
        "| **Derivative** | Measures **rate of change**    | Used in **Gradient Descent** to optimize models                       |\n",
        "| **Integral**   | Measures **area under curves** | Used in probabilities and continuous data (less common for beginners) |\n",
        "\n",
        "____\n",
        "We’ll focus mostly on `Derivatives`, because that's what powers **AI learning algorithms** like **Gradient Descent**."
      ],
      "metadata": {
        "id": "iTdBNiGF15cE"
      }
    },
    {
      "cell_type": "markdown",
      "source": [
        "\n",
        "\n",
        "---\n",
        "\n",
        "\n",
        "### 🌱 Let’s Start From the Beginning\n",
        "\n",
        "---\n",
        "\n",
        "\n",
        "\n",
        "🔹 1. What is a Function?\n",
        "\n",
        "Think of a function like a machine:\n",
        "\n",
        "Put an input → get an output.\n",
        "\n",
        "Example:\n",
        "\n",
        "\n",
        "---\n",
        "\n"
      ],
      "metadata": {
        "id": "1T1E0KMy2pcp"
      }
    },
    {
      "cell_type": "code",
      "source": [
        "def f(x):\n",
        "    return x**2"
      ],
      "metadata": {
        "id": "vaGH_FEh3Ggi"
      },
      "execution_count": null,
      "outputs": []
    },
    {
      "cell_type": "markdown",
      "source": [
        "\n",
        "\n",
        "---\n",
        "\n",
        "\n",
        "If you input 2, it returns 4.\n",
        "\n",
        "If you input 3, it returns 9.\n",
        "\n",
        "So, this function grows fast. But how fast?\n",
        "\n",
        "\n",
        "---\n",
        "\n"
      ],
      "metadata": {
        "id": "TGI2OdG-3PXs"
      }
    },
    {
      "cell_type": "markdown",
      "source": [
        "\n",
        "\n",
        "---\n",
        "\n",
        "\n",
        "### 🔹 2. What is a Derivative?\n",
        "A derivative tells you:\n",
        "\n",
        "“How fast is my function changing at a certain point?”\n",
        "\n",
        "Example: For f(x) = x², the derivative is f'(x) = 2x.\n",
        "\n",
        "Meaning:\n",
        "\n",
        "At x = 1, slope is 2\n",
        "\n",
        "At x = 3, slope is 6 → it's getting steeper!\n",
        "\n",
        "It’s like looking at a curve and asking:\n",
        "“What’s the slope here?”"
      ],
      "metadata": {
        "id": "2QU_3FzC3c-d"
      }
    },
    {
      "cell_type": "markdown",
      "source": [
        "\n",
        "\n",
        "---\n",
        "\n",
        "### 🔹 4. Why Derivative is Important in AI?\n",
        "Let’s say you’re training a model to predict something. The model makes errors (loss).\n",
        "\n",
        "The gradient (derivative) tells the model:\n",
        "\n",
        "“Hey, change the weights in this direction to reduce the error!”\n",
        "\n",
        "This is called Gradient Descent, it’s how machines learn.\n",
        "\n",
        "\n",
        "---\n",
        "\n"
      ],
      "metadata": {
        "id": "Q1L5pfIh3u8N"
      }
    },
    {
      "cell_type": "markdown",
      "source": [
        "✨ **Quick Python Example:**\n",
        "\n",
        "\n",
        "---\n",
        "\n"
      ],
      "metadata": {
        "id": "4uz-dB4939iH"
      }
    },
    {
      "cell_type": "code",
      "source": [
        "# Visualizing derivative\n",
        "import matplotlib.pyplot as plt\n",
        "import numpy as np\n",
        "\n",
        "x = np.linspace(-5, 5, 100)\n",
        "y = x**2           # function\n",
        "dy = 2 * x         # derivative\n",
        "\n",
        "plt.plot(x, y, label='f(x) = x²')\n",
        "plt.plot(x, dy, label=\"f'(x) = 2x\", linestyle='--')\n",
        "plt.legend()\n",
        "plt.grid(True)\n",
        "plt.title(\"Function vs Derivative\")\n",
        "plt.show()"
      ],
      "metadata": {
        "colab": {
          "base_uri": "https://localhost:8080/",
          "height": 256
        },
        "id": "PhOFE5Tn4Gpe",
        "outputId": "c77e1127-8cc3-4736-acb9-01e7c255d1ce"
      },
      "execution_count": 2,
      "outputs": [
        {
          "output_type": "display_data",
          "data": {
            "text/plain": [
              "<Figure size 640x480 with 1 Axes>"
            ],
            "image/png": "[encoded data removed]"
          },
          "metadata": {}
        }
      ]
    },
    {
      "cell_type": "markdown",
      "source": [
        "### 📚 HomeWork\n",
        "Q. Write 2 real-world examples of change:\n",
        "\n",
        "e.g., \"Rainfall per hour\"\n",
        "\n",
        "e.g., \"Weight loss over weeks\"\n",
        "\n",
        "\n",
        "---\n",
        "\n"
      ],
      "metadata": {
        "id": "DFxsi-bq49-8"
      }
    },
    {
      "cell_type": "markdown",
      "source": [
        "## 2 Real-World Examples of Change\n",
        "\n",
        "*   \"Temperature change per minute\" (e.g., cooling of hot coffee)\n",
        "\n",
        "*   \"Car speed (mph) over time\" (e.g., acceleration/deceleration)\n",
        "\n",
        "\n",
        "---\n",
        "\n"
      ],
      "metadata": {
        "id": "FfpS2tRb5XYK"
      }
    },
    {
      "cell_type": "markdown",
      "source": [
        "### Q. Practice 2 derivative functions:\n",
        "\n",
        "*   What’s the derivative of f(x) = 3x + 4?\n",
        "\n",
        "*   What’s the derivative of f(x) = x² + 2x?\n",
        "\n",
        "\n",
        "---\n",
        "\n"
      ],
      "metadata": {
        "id": "S8lVzzSY5lbV"
      }
    },
    {
      "cell_type": "markdown",
      "source": [
        "1. f(x)=3x+4\n",
        "\n",
        "Derivative: f'(x)=3\n",
        "\n",
        "Explanation:\n",
        "The slope of the line is constant. The constant term\n",
        "+\n",
        "4 disappears when differentiating.\n",
        "\n",
        "2. f\n",
        "(\n",
        "x\n",
        ")\n",
        "=\n",
        "x\n",
        "^\n",
        "2+\n",
        "2\n",
        "x\n",
        "\n",
        "\n",
        "Derivative:\n",
        "f\n",
        "′\n",
        "(\n",
        "x\n",
        ")\n",
        "=\n",
        "2\n",
        "x\n",
        "+\n",
        "2\n",
        "\n",
        "(Power rule:\n",
        "d/d​x[x^n]=nx^n−¹)"
      ],
      "metadata": {
        "id": "_l3BNyWb6Bzb"
      }
    },
    {
      "cell_type": "markdown",
      "source": [
        "\n",
        "\n",
        "---\n",
        "### Why It Matters in AI\n",
        "Gradient descent uses derivatives (like\n",
        "2\n",
        "x\n",
        "+\n",
        "2) to optimize models.\n",
        "\n",
        "Speed/acceleration analogs help understand neural network training.\n",
        "\n"
      ],
      "metadata": {
        "id": "-AVgXN6r7bQl"
      }
    },
    {
      "cell_type": "code",
      "source": [
        "import numpy as np\n",
        "import matplotlib.pyplot as plt\n",
        "\n",
        "x = np.linspace(-5, 5, 100)\n",
        "\n",
        "# f(x) = 3x + 4 and its derivative\n",
        "f = 3 * x + 4\n",
        "df = 3 + 0 * x  # constant derivative\n",
        "\n",
        "plt.plot(x, f, label=\"f(x) = 3x + 4\", color='blue')\n",
        "plt.plot(x, df, label=\"f'(x) = 3\", linestyle='--', color='red')\n",
        "plt.title(\"Linear Function and Its Derivative\")\n",
        "plt.xlabel(\"x\")\n",
        "plt.ylabel(\"y\")\n",
        "plt.grid(True)\n",
        "plt.legend()\n",
        "plt.show()"
      ],
      "metadata": {
        "colab": {
          "base_uri": "https://localhost:8080/",
          "height": 258
        },
        "id": "V0_jl4mD8Zp0",
        "outputId": "6e5d64e4-5381-4acf-f25c-f66295a74fac"
      },
      "execution_count": 1,
      "outputs": [
        {
          "output_type": "display_data",
          "data": {
            "text/plain": [
              "<Figure size 640x480 with 1 Axes>"
            ],
            "image/png": "[encoded data removed]"
          },
          "metadata": {}
        }
      ]
    }
  ]
}